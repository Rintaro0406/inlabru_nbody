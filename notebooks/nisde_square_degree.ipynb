{
 "cells": [
  {
   "cell_type": "code",
   "execution_count": 1,
   "metadata": {},
   "outputs": [],
   "source": [
    "import numpy as np\n",
    "import healpy as hp"
   ]
  },
  {
   "cell_type": "code",
   "execution_count": 3,
   "metadata": {},
   "outputs": [
    {
     "name": "stdout",
     "output_type": "stream",
     "text": [
      "pixel_area_sqdeg =  [13.428698323378669, 3.357174580844667, 0.8392936452111668, 0.2098234113027917, 0.052455852825697924, 0.013113963206424481, 0.0032784908016061202, 0.0008196227004015301]\n"
     ]
    }
   ],
   "source": [
    "nsides = [16, 32, 64, 128, 256, 512, 1024, 2048]\n",
    "pixel_area_sqdeg = [hp.nside2pixarea(nside, degrees=True) for nside in nsides]\n",
    "print(\"pixel_area_sqdeg = \", pixel_area_sqdeg)"
   ]
  },
  {
   "cell_type": "code",
   "execution_count": null,
   "metadata": {},
   "outputs": [],
   "source": []
  }
 ],
 "metadata": {
  "kernelspec": {
   "display_name": "inlabru_nbody",
   "language": "python",
   "name": "python3"
  },
  "language_info": {
   "codemirror_mode": {
    "name": "ipython",
    "version": 3
   },
   "file_extension": ".py",
   "mimetype": "text/x-python",
   "name": "python",
   "nbconvert_exporter": "python",
   "pygments_lexer": "ipython3",
   "version": "3.9.19"
  }
 },
 "nbformat": 4,
 "nbformat_minor": 2
}
