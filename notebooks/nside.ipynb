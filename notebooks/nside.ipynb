{
 "cells": [
  {
   "cell_type": "code",
   "execution_count": 1,
   "metadata": {},
   "outputs": [],
   "source": [
    "import healpy as hp\n",
    "import numpy as np\n",
    "import matplotlib.pyplot as plt"
   ]
  },
  {
   "cell_type": "code",
   "execution_count": 7,
   "metadata": {},
   "outputs": [
    {
     "name": "stdout",
     "output_type": "stream",
     "text": [
      "nside for 6 arcseconds: 33594\n"
     ]
    }
   ],
   "source": [
    "def arcsec_to_nside(arcsec):\n",
    "    \"\"\"\n",
    "    Convert arcseconds to nside.\n",
    "    \n",
    "    Parameters:\n",
    "    arcsec (float): The size of the pixel in arcseconds.\n",
    "    \n",
    "    Returns:\n",
    "    int: The nside parameter.\n",
    "    \"\"\"\n",
    "    # Convert arcseconds to radians\n",
    "    radians = np.deg2rad(arcsec / 3600.0)\n",
    "    \n",
    "    # Calculate the nside parameter\n",
    "    nside = int(np.round(np.sqrt(3 / np.pi) / radians))\n",
    "    \n",
    "    return nside\n",
    "\n",
    "# Example usage\n",
    "arcsec = 6# 1 arcminute\n",
    "nside = arcsec_to_nside(arcsec)\n",
    "print(f\"nside for {arcsec} arcseconds: {nside}\")"
   ]
  },
  {
   "cell_type": "code",
   "execution_count": 6,
   "metadata": {},
   "outputs": [
    {
     "name": "stdout",
     "output_type": "stream",
     "text": [
      "480 Fahrenheit is 248.89 Celsius\n"
     ]
    }
   ],
   "source": [
    "def fahrenheit_to_celsius(fahrenheit):\n",
    "    \"\"\"\n",
    "    Convert Fahrenheit to Celsius.\n",
    "    \n",
    "    Parameters:\n",
    "    fahrenheit (float): Temperature in Fahrenheit.\n",
    "    \n",
    "    Returns:\n",
    "    float: Temperature in Celsius.\n",
    "    \"\"\"\n",
    "    celsius = (fahrenheit - 32) * 5.0/9.0\n",
    "    return celsius\n",
    "\n",
    "# Example usage\n",
    "fahrenheit = 480\n",
    "celsius = fahrenheit_to_celsius(fahrenheit)\n",
    "print(f\"{fahrenheit} Fahrenheit is {celsius:.2f} Celsius\")"
   ]
  },
  {
   "cell_type": "code",
   "execution_count": 10,
   "metadata": {},
   "outputs": [
    {
     "name": "stdout",
     "output_type": "stream",
     "text": [
      "Number of pixels for nside 8192: 805306368\n"
     ]
    }
   ],
   "source": [
    "def nside_to_npix(nside):\n",
    "    \"\"\"\n",
    "    Calculate the number of pixels for a given nside.\n",
    "    \n",
    "    Parameters:\n",
    "    nside (int): The nside parameter.\n",
    "    \n",
    "    Returns:\n",
    "    int: The number of pixels.\n",
    "    \"\"\"\n",
    "    npix = hp.nside2npix(nside)\n",
    "    return npix\n",
    "\n",
    "# Example usage\n",
    "nside = 8192\n",
    "npix = nside_to_npix(nside)\n",
    "print(f\"Number of pixels for nside {nside}: {npix}\")"
   ]
  },
  {
   "cell_type": "code",
   "execution_count": null,
   "metadata": {},
   "outputs": [],
   "source": []
  }
 ],
 "metadata": {
  "kernelspec": {
   "display_name": "inla_nbody",
   "language": "python",
   "name": "python3"
  },
  "language_info": {
   "codemirror_mode": {
    "name": "ipython",
    "version": 3
   },
   "file_extension": ".py",
   "mimetype": "text/x-python",
   "name": "python",
   "nbconvert_exporter": "python",
   "pygments_lexer": "ipython3",
   "version": "3.11.10"
  }
 },
 "nbformat": 4,
 "nbformat_minor": 2
}
